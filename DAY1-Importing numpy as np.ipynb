{
  "cells": [
    {
      "cell_type": "code",
      "execution_count": null,
      "metadata": {
        "id": "kq6mA3_UzxCE"
      },
      "outputs": [],
      "source": [
        " import numpy as np\n"
      ]
    },
    {
      "cell_type": "code",
      "execution_count": null,
      "metadata": {
        "id": "er4PNtYB15ya"
      },
      "outputs": [],
      "source": [
        "matrix1=np.array([[1,2,3],[2,3,4 ],[5,6,7]])\n",
        "matrix2=np.array([[1,2,3],[2,3,4],[5,6,7]])\n",
        "result_matrix=matrix1 + matrix2\n",
        "\n"
      ]
    },
    {
      "cell_type": "code",
      "execution_count": null,
      "metadata": {
        "colab": {
          "base_uri": "https://localhost:8080/"
        },
        "id": "Oe34ebb86ulN",
        "outputId": "1842fa7a-693b-45cd-beb0-cdfbd3cab4c7"
      },
      "outputs": [
        {
          "name": "stdout",
          "output_type": "stream",
          "text": [
            "Requirement already satisfied: numpy in /usr/local/lib/python3.10/dist-packages (1.23.5)\n"
          ]
        }
      ],
      "source": [
        "!pip install numpy"
      ]
    },
    {
      "cell_type": "code",
      "execution_count": null,
      "metadata": {
        "colab": {
          "background_save": true,
          "base_uri": "https://localhost:8080/",
          "height": 800
        },
        "id": "h2Ms0p1M7ZOt",
        "outputId": "d6d9c5bb-76f0-4206-d776-24a2f1a66053"
      },
      "outputs": [
        {
          "name": "stdout",
          "output_type": "stream",
          "text": [
            "[1 2 3 4 5]\n",
            "[[0. 0. 0.]\n",
            " [0. 0. 0.]\n",
            " [0. 0. 0.]]\n",
            "[[1. 1. 1.]\n",
            " [1. 1. 1.]\n",
            " [1. 1. 1.]]\n",
            "[[0 0 0]\n",
            " [0 0 0]\n",
            " [0 0 0]]\n",
            "[0 1 2 3 4 5 6 7 8 9]\n",
            "[[1]\n",
            " [2]\n",
            " [3]\n",
            " [4]\n",
            " [5]]\n",
            "[3 4]\n",
            "[[ 4]\n",
            " [ 6]\n",
            " [ 8]\n",
            " [10]]\n",
            "[ 4  6  8 10]\n",
            "[array([1, 2]), array([3, 4])]\n",
            "[ 4  6  8 10]\n",
            "[6 7 8 9]\n",
            "[[1 5]\n",
            " [2 6]\n",
            " [3 7]\n",
            " [4 8]]\n"
          ]
        }
      ],
      "source": [
        "import numpy as np\n",
        "arr=np.array([1,2,3,4,5])\n",
        "print(arr)\n",
        "\n",
        "a=np.zeros((3,3))\n",
        "print(a)\n",
        "\n",
        "a=np.ones((3,3))\n",
        "print(a)\n",
        "\n",
        "a=np.zeros((3,3),int)\n",
        "print(a)\n",
        "\n",
        "arange_arr=np.arange(10)\n",
        "print(arange_arr)\n",
        "\n",
        "#array manupulation\n",
        "arr=np.array([1,2,3,4,5])\n",
        "reshape_arr=arr.reshape(5,1)\n",
        "print(reshape_arr)\n",
        "\n",
        "slicedarr=arr[2:4]\n",
        "print(slicedarr)\n",
        "\n",
        "arr1=np.array([1,2,3,4])\n",
        "arr2=np.array([3,4,5,6])\n",
        "c=np.vstack(arr1+arr2)\n",
        "print(c)\n",
        "\n",
        "\n",
        "arr1=np.array([1,2,3,4])\n",
        "arr2=np.array([3,4,5,6])\n",
        "c=np.stack(arr1+arr2)\n",
        "print(c)\n",
        "\n",
        "arr1=np.array([1,2,3,4])\n",
        "c=np.split(arr1,2)\n",
        "print(c)\n",
        "\n",
        "\n",
        "\n",
        "\n",
        "\n",
        "\n",
        "\n",
        "#mathmatical applications\n",
        "import numpy as np\n",
        "arr1=np.array([1,2,3,4])\n",
        "arr2=np.array([3,4,5,6])\n",
        "arr= arr1+arr2\n",
        "print(arr)\n",
        "print(arr2+3)\n",
        "\n",
        "#transpose path of array\n",
        "import numpy as np\n",
        "a=np.arr([1,2,3,4,5,6,7,8])\n",
        "b=a.T\n",
        "print(b)"
      ]
    },
    {
      "cell_type": "code",
      "execution_count": null,
      "metadata": {
        "id": "cTbcBKSDsJ8A"
      },
      "outputs": [],
      "source": [
        "\n"
      ]
    },
    {
      "cell_type": "code",
      "execution_count": null,
      "metadata": {
        "colab": {
          "base_uri": "https://localhost:8080/"
        },
        "id": "JQrzLQi2CD-P",
        "outputId": "d2005b74-31ee-47ab-b1d9-68aac836dac9"
      },
      "outputs": [
        {
          "name": "stdout",
          "output_type": "stream",
          "text": [
            "[[1 2]\n",
            " [2 3]\n",
            " [4 5]]\n",
            "17\n",
            "29\n",
            "3.0\n",
            "3.0\n",
            "2.0\n",
            "1.4142135623730951\n"
          ]
        }
      ],
      "source": [
        "\n",
        "#mathmatical operations\n",
        "import numpy as np\n",
        "a=np.matrix([[1,2],[2,3],[4,5]])\n",
        "print(a)\n",
        "d=np.sum(a)\n",
        "print(d)\n",
        "\n",
        "a=np.matrix([[1,2],[2,3],[4,5]])\n",
        "b=np.matrix([[1,1],[2,2],[3,3]])\n",
        "\n",
        "e=np.sum(a+b)\n",
        "print(e)\n",
        "\n",
        "#statistical operations\n",
        "import numpy as np\n",
        "a=np.array([1,2,3,4,5])\n",
        "c=np.mean(a)\n",
        "print(c)\n",
        "d=np.median(a)\n",
        "print(d)\n",
        "e=np.var(a)\n",
        "print(e)\n",
        "f=np.std(a)\n",
        "print(f)\n",
        "\n"
      ]
    },
    {
      "cell_type": "code",
      "execution_count": null,
      "metadata": {
        "colab": {
          "background_save": true,
          "base_uri": "https://localhost:8080/"
        },
        "id": "y7FiayYQoYtK",
        "outputId": "62ea2554-fe2c-4b63-a99f-d3e8402e76c5"
      },
      "outputs": [
        {
          "name": "stdout",
          "output_type": "stream",
          "text": [
            "[[1. 2. 3.]\n",
            " [4. 5. 6.]\n",
            " [7. 8. 9.]]\n"
          ]
        },
        {
          "ename": "NameError",
          "evalue": "name 'dnp' is not defined",
          "output_type": "error",
          "traceback": [
            "\u001b[0;31m---------------------------------------------------------------------------\u001b[0m",
            "\u001b[0;31mNameError\u001b[0m                                 Traceback (most recent call last)",
            "\u001b[0;32m<ipython-input-60-68854bcb131d>\u001b[0m in \u001b[0;36m<cell line: 4>\u001b[0;34m()\u001b[0m\n\u001b[1;32m      2\u001b[0m \u001b[0mprint\u001b[0m\u001b[0;34m(\u001b[0m\u001b[0mdata\u001b[0m\u001b[0;34m)\u001b[0m\u001b[0;34m\u001b[0m\u001b[0;34m\u001b[0m\u001b[0m\n\u001b[1;32m      3\u001b[0m \u001b[0;34m\u001b[0m\u001b[0m\n\u001b[0;32m----> 4\u001b[0;31m \u001b[0mdnp\u001b[0m\u001b[0;34m.\u001b[0m\u001b[0mloadtxt\u001b[0m\u001b[0;34m(\u001b[0m\u001b[0;34m\"/content/advpy1.txt\"\u001b[0m\u001b[0;34m,\u001b[0m\u001b[0mdata\u001b[0m\u001b[0;34m)\u001b[0m\u001b[0;34m\u001b[0m\u001b[0;34m\u001b[0m\u001b[0m\n\u001b[0m\u001b[1;32m      5\u001b[0m \u001b[0mprint\u001b[0m\u001b[0;34m(\u001b[0m\u001b[0md\u001b[0m\u001b[0;34m)\u001b[0m\u001b[0;34m\u001b[0m\u001b[0;34m\u001b[0m\u001b[0m\n",
            "\u001b[0;31mNameError\u001b[0m: name 'dnp' is not defined"
          ]
        }
      ],
      "source": [
        "data=np.loadtxt(\"/content/advpy.txt\")\n",
        "print(data)"
      ]
    }
  ],
  "metadata": {
    "colab": {
      "provenance": []
    },
    "kernelspec": {
      "display_name": "Python 3",
      "name": "python3"
    },
    "language_info": {
      "name": "python"
    }
  },
  "nbformat": 4,
  "nbformat_minor": 0
}
