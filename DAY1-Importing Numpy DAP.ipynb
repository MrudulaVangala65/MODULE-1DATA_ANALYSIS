{
  "nbformat": 4,
  "nbformat_minor": 0,
  "metadata": {
    "colab": {
      "provenance": [],
      "toc_visible": true
    },
    "kernelspec": {
      "name": "python3",
      "display_name": "Python 3"
    },
    "language_info": {
      "name": "python"
    }
  },
  "cells": [
    {
      "cell_type": "code",
      "execution_count": null,
      "metadata": {
        "id": "kq6mA3_UzxCE"
      },
      "outputs": [],
      "source": [
        "import numpy as np\n"
      ]
    },
    {
      "cell_type": "code",
      "source": [
        "matrix1=np.array([[1,2,3],[2,3,4 ],[5,6,7]])\n",
        "matrix2=np.array([[1,2,3],[2,3,4],[5,6,7]])\n",
        "result_matrix=matrix1 + matrix2\n",
        "\n"
      ],
      "metadata": {
        "id": "er4PNtYB15ya"
      },
      "execution_count": null,
      "outputs": []
    },
    {
      "cell_type": "code",
      "source": [
        "!pip install numpy"
      ],
      "metadata": {
        "colab": {
          "base_uri": "https://localhost:8080/"
        },
        "id": "Oe34ebb86ulN",
        "outputId": "1842fa7a-693b-45cd-beb0-cdfbd3cab4c7"
      },
      "execution_count": 4,
      "outputs": [
        {
          "output_type": "stream",
          "name": "stdout",
          "text": [
            "Requirement already satisfied: numpy in /usr/local/lib/python3.10/dist-packages (1.23.5)\n"
          ]
        }
      ]
    },
    {
      "cell_type": "code",
      "source": [
        "import numpy as np\n",
        "arr=np.array([1,2,3,4,5])\n",
        "print(arr)\n",
        "\n",
        "a=np.zeros((3,3))\n",
        "print(a)\n",
        "\n",
        "a=np.ones((3,3))\n",
        "print(a)\n",
        "\n",
        "a=np.zeros((3,3),int)\n",
        "print(a)\n",
        "\n",
        "arange_arr=np.arange(10)\n",
        "print(arange_arr)\n",
        "\n",
        "#array manupulation\n",
        "arr=np.array([1,2,3,4,5])\n",
        "reshape_arr=arr.reshape(5,1)\n",
        "print(reshape_arr)\n",
        "\n",
        "slicedarr=arr[2:4]\n",
        "print(slicedarr)\n",
        "\n",
        "arr1=np.array([1,2,3,4])\n",
        "arr2=np.array([3,4,5,6])\n",
        "c=np.vstack(arr1+arr2)\n",
        "print(c)\n",
        "\n",
        "\n",
        "arr1=np.array([1,2,3,4])\n",
        "arr2=np.array([3,4,5,6])\n",
        "c=np.stack(arr1+arr2)\n",
        "print(c)\n",
        "\n",
        "arr1=np.array([1,2,3,4])\n",
        "c=np.split(arr1,2)\n",
        "print(c)\n",
        "\n",
        "\n",
        "\n",
        "\n",
        "\n",
        "\n",
        "\n",
        "#mathmatical applications\n",
        "import numpy as np\n",
        "arr1=np.array([1,2,3,4])\n",
        "arr2=np.array([3,4,5,6])\n",
        "arr= arr1+arr2\n",
        "print(arr)\n",
        "print(arr2+3)\n",
        "\n",
        "#transpose path of array\n",
        "import numpy as np\n",
        "a=np.matrix([[1,2,3,4],[5,6,7,8]])\n",
        "b=a.T\n",
        "print(b)\n",
        "\n",
        "#linear algebra with numpy\n",
        "\n",
        "import numpy as np\n",
        "arr1=np.matrix([[1,2],[3,4]])\n",
        "arr2=np.matrix([[1,1],[2,2]])\n",
        "c=np.dot(arr1,arr2)\n",
        "print(c)\n",
        "\n",
        "#calculating eigen values or eigen vector\n",
        "arr1=np.array([[1,2],[3,4]])\n",
        "arr2=np.array([[1,1],[2,2]])\n",
        "c=np.dot(arr1,arr2)\n",
        "d=np.linalg.eig(c)\n",
        "print(d)\n",
        "\n"
      ],
      "metadata": {
        "colab": {
          "base_uri": "https://localhost:8080/"
        },
        "id": "h2Ms0p1M7ZOt",
        "outputId": "c1b7edd8-9d0a-4ac5-e388-2021aa2bf521"
      },
      "execution_count": 34,
      "outputs": [
        {
          "output_type": "stream",
          "name": "stdout",
          "text": [
            "[1 2 3 4 5]\n",
            "[[0. 0. 0.]\n",
            " [0. 0. 0.]\n",
            " [0. 0. 0.]]\n",
            "[[1. 1. 1.]\n",
            " [1. 1. 1.]\n",
            " [1. 1. 1.]]\n",
            "[[0 0 0]\n",
            " [0 0 0]\n",
            " [0 0 0]]\n",
            "[0 1 2 3 4 5 6 7 8 9]\n",
            "[[1]\n",
            " [2]\n",
            " [3]\n",
            " [4]\n",
            " [5]]\n",
            "[3 4]\n",
            "[[ 4]\n",
            " [ 6]\n",
            " [ 8]\n",
            " [10]]\n",
            "[ 4  6  8 10]\n",
            "[array([1, 2]), array([3, 4])]\n",
            "[ 4  6  8 10]\n",
            "[6 7 8 9]\n",
            "[[1 5]\n",
            " [2 6]\n",
            " [3 7]\n",
            " [4 8]]\n",
            "[[ 5  5]\n",
            " [11 11]]\n",
            "(array([ 0., 16.]), array([[-0.70710678, -0.41380294],\n",
            "       [ 0.70710678, -0.91036648]]))\n"
          ]
        }
      ]
    },
    {
      "cell_type": "code",
      "source": [],
      "metadata": {
        "id": "JQrzLQi2CD-P"
      },
      "execution_count": null,
      "outputs": []
    }
  ]
}