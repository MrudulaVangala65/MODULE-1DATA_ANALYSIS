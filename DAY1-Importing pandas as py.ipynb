{
  "cells": [
    {
      "cell_type": "code",
      "execution_count": null,
      "metadata": {
        "colab": {
          "base_uri": "https://localhost:8080/"
        },
        "id": "HfO1vUw0sTxG",
        "outputId": "dd882d6c-6faa-48de-85b8-8cbc0a6f0772"
      },
      "outputs": [
        {
          "name": "stdout",
          "output_type": "stream",
          "text": [
            "1         ram\n",
            "2         raj\n",
            "3     mrudula\n",
            "4       rishi\n",
            "5      yamini\n",
            "6        ishu\n",
            "7    parvathi\n",
            "dtype: object\n",
            "   1  2  3  4  5  6  7  8\n",
            "0  1  2  3  4  5  6  7  8\n",
            "   1  2  3  4  5  6  7  8\n",
            "0  1  2  3  4  5  6  7  8\n",
            "     Player_Id      Player_Name        DOB Batting_Hand       Bowling_Skill  \\\n",
            "0            1       SC Ganguly   8-Jul-72    Left_Hand    Right-arm medium   \n",
            "1            2      BB McCullum  27-Sep-81   Right_Hand    Right-arm medium   \n",
            "2            3       RT Ponting  19-Dec-74   Right_Hand    Right-arm medium   \n",
            "3            4        DJ Hussey  15-Jul-77   Right_Hand  Right-arm offbreak   \n",
            "4            5  Mohammad Hafeez  17-Oct-80   Right_Hand  Right-arm offbreak   \n",
            "..         ...              ...        ...          ...                 ...   \n",
            "518        519      Subroto Das        NaN          NaN                 NaN   \n",
            "519        520     K Srinivasan        NaN          NaN                 NaN   \n",
            "520        521        VK Sharma        NaN          NaN                 NaN   \n",
            "521        523      AV Wankhade  14-Mar-92   Right_Hand                 NaN   \n",
            "522        524      B Aparajith   8-Jul-94   Right_Hand  Right-arm offbreak   \n",
            "\n",
            "         Country  Is_Umpire  Unnamed: 7  \n",
            "0          India          0         NaN  \n",
            "1    New Zealand          0         NaN  \n",
            "2      Australia          0         NaN  \n",
            "3      Australia          0         NaN  \n",
            "4       Pakistan          0         NaN  \n",
            "..           ...        ...         ...  \n",
            "518        India          1         NaN  \n",
            "519        India          1         NaN  \n",
            "520        India          1         NaN  \n",
            "521        India          0         NaN  \n",
            "522        India          0         NaN  \n",
            "\n",
            "[523 rows x 8 columns]\n"
          ]
        }
      ],
      "source": [
        "#pandas\n",
        "import pandas as pd\n",
        "a=[\"ram\",'raj','mrudula','rishi','yamini','ishu','parvathi']\n",
        "r=pd.Series(a,index=[1,2,3,4,5,6,7])\n",
        "print(r)\n",
        "\n",
        "df=pd.read_csv(\"/content/pythontextfile1.txt\",sep=\" \")\n",
        "print(df)\n",
        "\n",
        "df=pd.read_csv(\"/content/pythontextfile1.txt\",sep=\" \")\n",
        "print(df)\n",
        "\n",
        "df1=pd.read_csv(\"/content/Player.csv\")\n",
        "print(df1)\n",
        "\n",
        "df1.head()\n",
        "df1.tail()\n",
        "\n",
        "df1.shape\n",
        "d1_lastlines=df1.tail(10)\n",
        "d1_lastlines=df1.to_csv(\"manualtesting\")\n",
        "\n",
        "\n",
        "\n",
        "\n",
        "\n"
      ]
    },
    {
      "cell_type": "code",
      "execution_count": null,
      "metadata": {
        "colab": {
          "base_uri": "https://localhost:8080/"
        },
        "id": "gntCAEyNOj3Z",
        "outputId": "8896a713-b4ca-4663-fdc7-7c5001a9ad0f"
      },
      "outputs": [
        {
          "name": "stdout",
          "output_type": "stream",
          "text": [
            "    Unnamed: 0  Player_Id      Player_Name        DOB Batting_Hand  \\\n",
            "0          513        514        I Shivram        NaN          NaN   \n",
            "1          514        515        SD Ranade        NaN          NaN   \n",
            "2          515        516   TH Wijewardene        NaN          NaN   \n",
            "3          516        517          AL Hill        NaN          NaN   \n",
            "4          517        518        RJ Tucker        NaN          NaN   \n",
            "5          518        519      Subroto Das        NaN          NaN   \n",
            "6          519        520     K Srinivasan        NaN          NaN   \n",
            "7          520        521        VK Sharma        NaN          NaN   \n",
            "8          521        523      AV Wankhade  14-Mar-92   Right_Hand   \n",
            "9          522        524      B Aparajith   8-Jul-94   Right_Hand   \n",
            "10           0          1       SC Ganguly   8-Jul-72    Left_Hand   \n",
            "11           1          2      BB McCullum  27-Sep-81   Right_Hand   \n",
            "12           2          3       RT Ponting  19-Dec-74   Right_Hand   \n",
            "13           3          4        DJ Hussey  15-Jul-77   Right_Hand   \n",
            "14           4          5  Mohammad Hafeez  17-Oct-80   Right_Hand   \n",
            "15           5          6         R Dravid  11-Jan-73   Right_Hand   \n",
            "16           6          7         W Jaffer  16-Feb-78   Right_Hand   \n",
            "17           7          8          V Kohli   5-Nov-88   Right_Hand   \n",
            "18           8          9        JH Kallis  16-Oct-75   Right_Hand   \n",
            "19           9         10         CL White  18-Aug-83   Right_Hand   \n",
            "\n",
            "            Bowling_Skill       Country  Is_Umpire  Unnamed: 7  \n",
            "0                     NaN         India          1         NaN  \n",
            "1                     NaN         India          1         NaN  \n",
            "2                     NaN     Sri Lanka          1         NaN  \n",
            "3                     NaN   New Zealand          1         NaN  \n",
            "4                     NaN     Australia          1         NaN  \n",
            "5                     NaN         India          1         NaN  \n",
            "6                     NaN         India          1         NaN  \n",
            "7                     NaN         India          1         NaN  \n",
            "8                     NaN         India          0         NaN  \n",
            "9      Right-arm offbreak         India          0         NaN  \n",
            "10       Right-arm medium         India          0         NaN  \n",
            "11       Right-arm medium   New Zealand          0         NaN  \n",
            "12       Right-arm medium     Australia          0         NaN  \n",
            "13     Right-arm offbreak     Australia          0         NaN  \n",
            "14     Right-arm offbreak      Pakistan          0         NaN  \n",
            "15     Right-arm offbreak         India          0         NaN  \n",
            "16     Right-arm offbreak         India          0         NaN  \n",
            "17       Right-arm medium         India          0         NaN  \n",
            "18  Right-arm fast-medium  South Africa          0         NaN  \n",
            "19        Legbreak googly     Australia          0         NaN  \n",
            "Player_Name\n",
            "AL Hill            0\n",
            "AV Wankhade        1\n",
            "B Aparajith        1\n",
            "BB McCullum        1\n",
            "CL White           1\n",
            "DJ Hussey          1\n",
            "I Shivram          0\n",
            "JH Kallis          1\n",
            "K Srinivasan       0\n",
            "Mohammad Hafeez    1\n",
            "R Dravid           1\n",
            "RJ Tucker          0\n",
            "RT Ponting         1\n",
            "SC Ganguly         1\n",
            "SD Ranade          0\n",
            "Subroto Das        0\n",
            "TH Wijewardene     0\n",
            "V Kohli            1\n",
            "VK Sharma          0\n",
            "W Jaffer           1\n",
            "Name: DOB, dtype: int64\n"
          ]
        }
      ],
      "source": [
        "df1=pd.read_csv(\"/content/Player.csv\")\n",
        "d1_lastlines=df1.tail(10)\n",
        "d1_firstlines=df1.head(10)\n",
        "data_manualtesting=pd.concat([d1_lastlines,d1_firstlines],axis=0)\n",
        "data_manualtesting.to_csv(\"cancatinated_manualtesting\")\n",
        "rr=pd.read_csv(\"/content/cancatinated_manualtesting\")\n",
        "print(rr)\n",
        "print(rr.groupby(['Player_Name'])['DOB'].count())\n",
        "\n",
        "\n",
        "\n",
        "\n"
      ]
    },
    {
      "cell_type": "code",
      "execution_count": null,
      "metadata": {
        "colab": {
          "base_uri": "https://localhost:8080/"
        },
        "id": "yxoJ6xRP8nLI",
        "outputId": "d4e9a2b7-2a3d-4c2a-9e22-b68cff00d0fc"
      },
      "outputs": [
        {
          "name": "stdout",
          "output_type": "stream",
          "text": [
            "     Player_Id      Player_Name        DOB Batting_Hand       Bowling_Skill  \\\n",
            "0            1       SC Ganguly   8-Jul-72    Left_Hand    Right-arm medium   \n",
            "1            2      BB McCullum  27-Sep-81   Right_Hand    Right-arm medium   \n",
            "2            3       RT Ponting  19-Dec-74   Right_Hand    Right-arm medium   \n",
            "3            4        DJ Hussey  15-Jul-77   Right_Hand  Right-arm offbreak   \n",
            "4            5  Mohammad Hafeez  17-Oct-80   Right_Hand  Right-arm offbreak   \n",
            "..         ...              ...        ...          ...                 ...   \n",
            "518        519      Subroto Das        NaN          NaN                 NaN   \n",
            "519        520     K Srinivasan        NaN          NaN                 NaN   \n",
            "520        521        VK Sharma        NaN          NaN                 NaN   \n",
            "521        523      AV Wankhade  14-Mar-92   Right_Hand                 NaN   \n",
            "522        524      B Aparajith   8-Jul-94   Right_Hand  Right-arm offbreak   \n",
            "\n",
            "         Country  Is_Umpire  Unnamed: 7  \n",
            "0          India          0         NaN  \n",
            "1    New Zealand          0         NaN  \n",
            "2      Australia          0         NaN  \n",
            "3      Australia          0         NaN  \n",
            "4       Pakistan          0         NaN  \n",
            "..           ...        ...         ...  \n",
            "518        India          1         NaN  \n",
            "519        India          1         NaN  \n",
            "520        India          1         NaN  \n",
            "521        India          0         NaN  \n",
            "522        India          0         NaN  \n",
            "\n",
            "[523 rows x 8 columns]\n"
          ]
        }
      ],
      "source": [
        "df1=pd.read_csv(\"/content/Player.csv\")\n",
        "print(df1)\n",
        "df1.shape\n",
        "df1[\"class\"]=1"
      ]
    },
    {
      "cell_type": "code",
      "execution_count": null,
      "metadata": {
        "colab": {
          "base_uri": "https://localhost:8080/"
        },
        "id": "g_CxXeLD7Tlr",
        "outputId": "e549aa04-32d7-4e0d-a10f-ec3b9112082f"
      },
      "outputs": [
        {
          "name": "stdout",
          "output_type": "stream",
          "text": [
            "   sno      name  rollnumber\n",
            "0    1   mrudula          65\n",
            "1    2  rushitha          64\n",
            "2    3    yamini          63\n",
            "3    4  ishwarya          62\n",
            "4    5  parvathi          66\n",
            "sno                  2\n",
            "name          rushitha\n",
            "rollnumber          64\n",
            "Name: 1, dtype: object\n",
            "   sno      name  rollnumber\n",
            "0    1   mrudula          65\n",
            "1    2  rushitha          64\n",
            "2    3    yamini          63\n",
            "3    4  ishwarya          62\n",
            "4    5  parvathi          66\n",
            "   sno      name  rollnumber\n",
            "0    1   mrudula          65\n",
            "1    2  rushitha          64\n",
            "2    3    yamini          63\n",
            "3    4  ishwarya          62\n",
            "4    5  parvathi          66\n"
          ]
        }
      ],
      "source": [
        "\n",
        "import pandas as pd\n",
        "df=pd.read_excel(\"/content/newxlsheet.xlsx\")\n",
        "print(df)\n",
        "\n",
        "print(df.loc[1])\n",
        "\n",
        "mv=df['rollnumber'].mean()\n",
        "df=df.fillna(mv)\n",
        "print(df)\n",
        "\n",
        "df=df.drop_duplicates()\n",
        "print(df)\n",
        "\n",
        "\n",
        "\n"
      ]
    }
  ],
  "metadata": {
    "colab": {
      "provenance": []
    },
    "kernelspec": {
      "display_name": "Python 3",
      "name": "python3"
    },
    "language_info": {
      "name": "python"
    }
  },
  "nbformat": 4,
  "nbformat_minor": 0
}
